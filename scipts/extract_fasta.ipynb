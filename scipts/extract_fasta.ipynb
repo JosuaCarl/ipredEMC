{
 "cells": [
  {
   "cell_type": "code",
   "execution_count": 1,
   "id": "a518ba61",
   "metadata": {},
   "outputs": [],
   "source": [
    "import os\n",
    "import pandas as pd\n",
    "import subprocess\n",
    "import shutil\n",
    "from tqdm import tqdm\n",
    "\n",
    "names = [\"dG\", \"deep_preds\"]"
   ]
  },
  {
   "cell_type": "markdown",
   "id": "029fd66f",
   "metadata": {},
   "source": [
    "## Prepare directory structure"
   ]
  },
  {
   "cell_type": "code",
   "execution_count": 2,
   "id": "897af180",
   "metadata": {},
   "outputs": [],
   "source": [
    "shutil.rmtree(\"../fastas\")\n",
    "os.makedirs(\"../fastas\", exist_ok=True)\n",
    "os.makedirs(\"../predictions\", exist_ok=True)\n",
    "os.makedirs(\"../results\", exist_ok=True)"
   ]
  },
  {
   "cell_type": "markdown",
   "id": "dfbe24e4",
   "metadata": {},
   "source": [
    "## Helper methods"
   ]
  },
  {
   "cell_type": "code",
   "execution_count": 3,
   "id": "5610a2cb",
   "metadata": {},
   "outputs": [],
   "source": [
    "def parse_list(list_string: str) -> list:\n",
    "    list_string = list_string[1:-1].replace(\"'\", \"\")\n",
    "    if list_string and list_string != \"\":\n",
    "        return list_string.split(\", \")\n",
    "    else:\n",
    "        return []\n",
    "\n",
    "def select_positions(list: list, positions: list) -> list:\n",
    "    return [list[pos] for pos in positions]"
   ]
  },
  {
   "cell_type": "code",
   "execution_count": 4,
   "id": "3923fead",
   "metadata": {},
   "outputs": [],
   "source": [
    "summary_table = pd.read_excel(\"../data/TME-Analysis_Legionella-spp.xlsx\", sheet_name=\"Philadelphia 1\", skiprows=4)\n",
    "def row_by_refseq(refseq: str) -> pd.DataFrame:\n",
    "    return summary_table.loc[summary_table[\"RefSeq\"] == refseq]\n"
   ]
  },
  {
   "cell_type": "code",
   "execution_count": 5,
   "id": "4b000975",
   "metadata": {},
   "outputs": [],
   "source": [
    "info_map = {}\n",
    "def extend_info_map(idx:str , sequence: str, length, protein):\n",
    "    info_map[idx] = {\n",
    "        \"sequence\": sequence,\n",
    "        \"length\": length,\n",
    "        \"Gene name\": \"/\".join(protein[\"Gene name\"].values),\n",
    "        \"Protein name\": \"/\".join(protein[\"Protein name\"].values),\n",
    "        \"RefSeq\": protein[\"RefSeq\"].values[0],\n",
    "        \"UniProt ID\": protein[\"UniProt ID\"].values[0],\n",
    "    }\n",
    "\n",
    "def write_fasta(out_path, idx, sequence):\n",
    "    with open(out_path, \"a\") as outfile:\n",
    "        outfile.write(f\"{idx}\\n\")\n",
    "        outfile.write(f\"{sequence}\\n\")"
   ]
  },
  {
   "cell_type": "markdown",
   "id": "7a43d45e",
   "metadata": {},
   "source": [
    "## Fastas"
   ]
  },
  {
   "cell_type": "markdown",
   "id": "f56c324b",
   "metadata": {},
   "source": [
    "### Extract fasta from DeltaG predictions"
   ]
  },
  {
   "cell_type": "code",
   "execution_count": 6,
   "id": "bca54f2c",
   "metadata": {},
   "outputs": [],
   "source": [
    "in_path = \"../data/Legionella_pneumophila_str._Philadelphia_1_effector_proteins_FASTA_18-35.xlsx\"\n",
    "out_path = \"../fastas/dG.fasta\"\n",
    "dG_preds = pd.read_excel(in_path, 0, index_col=0).dropna(axis=\"rows\", subset=[\"M sequences\"])\n",
    "for i, row in dG_preds.iterrows():\n",
    "    sequences = parse_list(row[\"M sequences\"])\n",
    "    if sequences and len(sequences) > 0:\n",
    "        lengths = parse_list(row[\"M lengths\"])\n",
    "        refseq = str(row[\"name\"]).split(\"|\")[3]\n",
    "        protein = row_by_refseq(refseq)\n",
    "\n",
    "        domain_counter = 1\n",
    "        for i, sequence in enumerate(sequences):\n",
    "            idx = f\"{row[\"name\"]} - Domain {domain_counter}\"\n",
    "\n",
    "            extend_info_map(idx, sequence, lengths[i], protein)\n",
    "\n",
    "            write_fasta(out_path, idx, sequence)\n",
    "            domain_counter += 1"
   ]
  },
  {
   "cell_type": "markdown",
   "id": "55b3a67b",
   "metadata": {},
   "source": [
    "### Extract fasta from Deep predictions"
   ]
  },
  {
   "cell_type": "code",
   "execution_count": 7,
   "id": "af7a4e92",
   "metadata": {},
   "outputs": [
    {
     "name": "stderr",
     "output_type": "stream",
     "text": [
      "296it [00:00, 4835.57it/s]\n"
     ]
    }
   ],
   "source": [
    "in_path = \"../data/Legionella_pneumophila_str._Philadelphia_1_effector_proteins_Deep-Output.tsv\"\n",
    "out_path = \"../fastas/deep_preds.fasta\"\n",
    "deep_preds = pd.read_csv(in_path, sep=\"\\t\", index_col=0)\n",
    "for i, row in tqdm(deep_preds.iterrows()):\n",
    "    letters = parse_list(row[\"Letter\"])\n",
    "    m_positions = [i for i, letter in enumerate(letters) if letter == \"M\"]\n",
    "    if m_positions:\n",
    "        sequences = parse_list(row[\"aminoacids\"])\n",
    "        lengths = parse_list(row[\"length\"])\n",
    "        refseq_id = row[\"Uniprot-ID\"]\n",
    "        protein = row_by_refseq(refseq_id)\n",
    "        \n",
    "        domain_counter = 1\n",
    "        for i in m_positions:\n",
    "            idx = f\">{row.name} - Domain {domain_counter}\"\n",
    "            \n",
    "            extend_info_map(idx, sequences[i], lengths[i], protein)\n",
    "\n",
    "            write_fasta(out_path, idx, sequences[i])\n",
    "            domain_counter += 1"
   ]
  },
  {
   "cell_type": "markdown",
   "id": "85cf0894",
   "metadata": {},
   "source": [
    "### Bring fasta sequences into right order"
   ]
  },
  {
   "cell_type": "code",
   "execution_count": 8,
   "id": "7f782a8b",
   "metadata": {},
   "outputs": [
    {
     "name": "stderr",
     "output_type": "stream",
     "text": [
      "/Users/josuacarl/Codespace/Sarah/ipredEMC/.venv/lib/python3.12/site-packages/openpyxl/worksheet/_reader.py:329: UserWarning: Unknown extension is not supported and will be removed\n",
      "  warn(msg)\n",
      "/Users/josuacarl/Codespace/Sarah/ipredEMC/.venv/lib/python3.12/site-packages/openpyxl/worksheet/_reader.py:329: UserWarning: Conditional Formatting extension is not supported and will be removed\n",
      "  warn(msg)\n"
     ]
    }
   ],
   "source": [
    "all_affinities_df = pd.read_excel(os.path.join(\"..\", \"data\", \"ipredEMC_affinities_all-results.xlsx\"), sheet_name=0)\n",
    "for name in names:\n",
    "    fasta_path = os.path.join(\"..\", \"fastas\", f\"{name}.fasta\")\n",
    "    backup_fasta_path = os.path.join(\"..\", \"fastas\", f\"{name}.bak\")\n",
    "    shutil.move(fasta_path, backup_fasta_path)\n",
    "\n",
    "    with open(backup_fasta_path, 'r') as fasta_in:\n",
    "        lines = fasta_in.readlines()\n",
    "    for i, line in enumerate(lines):\n",
    "        if line.startswith(\">\"):\n",
    "            header = line[:-1]\n",
    "            sequence = lines[i+1][:-1]\n",
    "            search_header = \" - \".join(header.split(\" - \")[:-1]) + \" \"\n",
    "            if (all_affinities_df[all_affinities_df[\"FASTA\"] == search_header][\"Orientation\"] == \"turn\").all():\n",
    "                sequence = list(sequence)\n",
    "                sequence.reverse()\n",
    "                sequence = \"\".join(sequence)\n",
    "            write_fasta(fasta_path, header, sequence)"
   ]
  },
  {
   "cell_type": "markdown",
   "id": "a645968b",
   "metadata": {},
   "source": [
    "## Prediction"
   ]
  },
  {
   "cell_type": "markdown",
   "id": "e0c5c8ee",
   "metadata": {},
   "source": [
    "### Run EMC predictions"
   ]
  },
  {
   "cell_type": "code",
   "execution_count": 9,
   "id": "c5f0cf0d",
   "metadata": {},
   "outputs": [
    {
     "name": "stdout",
     "output_type": "stream",
     "text": [
      "Prediction is done. Please check predicted_affinity.csv\n",
      "Prediction is done. Please check predicted_affinity.csv\n"
     ]
    }
   ],
   "source": [
    "for name in names:\n",
    "    process = subprocess.Popen([\"python\", \"prediction.py\", f\"fastas/{name}.fasta\"], cwd=\"..\")\n",
    "    process.wait()\n",
    "    shutil.move(\"../predicted_affinity.csv\", f\"../predictions/{name}_affinities.tsv\")"
   ]
  },
  {
   "cell_type": "markdown",
   "id": "46bda25a",
   "metadata": {},
   "source": [
    "## Collect Results"
   ]
  },
  {
   "cell_type": "code",
   "execution_count": 10,
   "id": "a51e84a5",
   "metadata": {},
   "outputs": [],
   "source": [
    "for name in names:\n",
    "    predictions = pd.read_csv(f\"../predictions/{name}_affinities.tsv\", sep=\"\\t\")\n",
    "    for i, row in predictions.iterrows():\n",
    "        idx = f\">{row[\"TMD\"]}\"\n",
    "        affinity = row[\"Affinity to EMC\"]\n",
    "        info_map[idx].update({\"Affinity to EMC\": affinity})\n",
    "\n",
    "results = pd.DataFrame(info_map).transpose()\n",
    "results.to_csv(\"../results/results.csv\")"
   ]
  },
  {
   "cell_type": "code",
   "execution_count": null,
   "id": "388f9885",
   "metadata": {},
   "outputs": [],
   "source": []
  },
  {
   "cell_type": "code",
   "execution_count": null,
   "id": "5b16d92e",
   "metadata": {},
   "outputs": [],
   "source": []
  }
 ],
 "metadata": {
  "kernelspec": {
   "display_name": "ipredemc",
   "language": "python",
   "name": "python3"
  },
  "language_info": {
   "codemirror_mode": {
    "name": "ipython",
    "version": 3
   },
   "file_extension": ".py",
   "mimetype": "text/x-python",
   "name": "python",
   "nbconvert_exporter": "python",
   "pygments_lexer": "ipython3",
   "version": "3.12.2"
  }
 },
 "nbformat": 4,
 "nbformat_minor": 5
}
